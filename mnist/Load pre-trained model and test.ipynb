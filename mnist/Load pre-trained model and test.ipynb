{
 "cells": [
  {
   "cell_type": "code",
   "execution_count": 6,
   "metadata": {
    "collapsed": false
   },
   "outputs": [],
   "source": [
    "from keras.models import load_model\n",
    "\n",
    "model = load_model('CNN2.h5')"
   ]
  },
  {
   "cell_type": "code",
   "execution_count": null,
   "metadata": {
    "collapsed": false
   },
   "outputs": [
    {
     "name": "stdout",
     "output_type": "stream",
     "text": [
      "(28000, 784)\n",
      "(28000, 1, 28, 28)\n",
      "14464/28000 [==============>...............] - ETA: 30s"
     ]
    }
   ],
   "source": [
    "import numpy as np\n",
    "\n",
    "test = np.genfromtxt('test.csv', delimiter=',', skip_header=1)\n",
    "print(test.shape)\n",
    "\n",
    "test = test.reshape(test.shape[0], 1, 28, 28)\n",
    "test /= 255\n",
    "print(test.shape)\n",
    "\n",
    "predictions = model.predict_classes(test)\n",
    "\n",
    "labels = np.array(range(1, predictions.shape[0]+1))\n",
    "results = np.column_stack([labels, predictions])\n",
    "\n",
    "np.savetxt('result.csv', results, delimiter=',', header='ImageId,Label', fmt='%d', comments='')"
   ]
  }
 ],
 "metadata": {
  "anaconda-cloud": {},
  "kernelspec": {
   "display_name": "Python [conda root]",
   "language": "python",
   "name": "conda-root-py"
  },
  "language_info": {
   "codemirror_mode": {
    "name": "ipython",
    "version": 2
   },
   "file_extension": ".py",
   "mimetype": "text/x-python",
   "name": "python",
   "nbconvert_exporter": "python",
   "pygments_lexer": "ipython2",
   "version": "2.7.12"
  }
 },
 "nbformat": 4,
 "nbformat_minor": 1
}
