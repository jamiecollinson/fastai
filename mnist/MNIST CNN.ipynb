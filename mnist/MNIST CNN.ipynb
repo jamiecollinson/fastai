{
 "cells": [
  {
   "cell_type": "code",
   "execution_count": 1,
   "metadata": {
    "collapsed": false
   },
   "outputs": [
    {
     "name": "stderr",
     "output_type": "stream",
     "text": [
      "Using Theano backend.\n"
     ]
    },
    {
     "name": "stdout",
     "output_type": "stream",
     "text": [
      "X_train shape: (60000, 1, 28, 28)\n",
      "60000 train samples\n",
      "10000 test samples\n",
      "Train on 60000 samples, validate on 10000 samples\n",
      "Epoch 1/12\n",
      "60000/60000 [==============================] - 120s - loss: 0.3946 - acc: 0.8805 - val_loss: 0.1005 - val_acc: 0.9679\n",
      "Epoch 2/12\n",
      "60000/60000 [==============================] - 110s - loss: 0.1479 - acc: 0.9559 - val_loss: 0.0651 - val_acc: 0.9797\n",
      "Epoch 3/12\n",
      "60000/60000 [==============================] - 110s - loss: 0.1114 - acc: 0.9671 - val_loss: 0.0519 - val_acc: 0.9829\n",
      "Epoch 4/12\n",
      "60000/60000 [==============================] - 111s - loss: 0.0936 - acc: 0.9723 - val_loss: 0.0460 - val_acc: 0.9844\n",
      "Epoch 5/12\n",
      "60000/60000 [==============================] - 119s - loss: 0.0809 - acc: 0.9755 - val_loss: 0.0418 - val_acc: 0.9857\n",
      "Epoch 6/12\n",
      "60000/60000 [==============================] - 124s - loss: 0.0716 - acc: 0.9783 - val_loss: 0.0412 - val_acc: 0.9860\n",
      "Epoch 7/12\n",
      "60000/60000 [==============================] - 140s - loss: 0.0663 - acc: 0.9810 - val_loss: 0.0355 - val_acc: 0.9878\n",
      "Epoch 8/12\n",
      "60000/60000 [==============================] - 137s - loss: 0.0604 - acc: 0.9812 - val_loss: 0.0351 - val_acc: 0.9885\n",
      "Epoch 9/12\n",
      "60000/60000 [==============================] - 121s - loss: 0.0547 - acc: 0.9834 - val_loss: 0.0314 - val_acc: 0.9899\n",
      "Epoch 10/12\n",
      "60000/60000 [==============================] - 128s - loss: 0.0544 - acc: 0.9837 - val_loss: 0.0341 - val_acc: 0.9890\n",
      "Epoch 11/12\n",
      "60000/60000 [==============================] - 143s - loss: 0.0512 - acc: 0.9849 - val_loss: 0.0318 - val_acc: 0.9895\n",
      "Epoch 12/12\n",
      "60000/60000 [==============================] - 135s - loss: 0.0494 - acc: 0.9857 - val_loss: 0.0378 - val_acc: 0.9875\n",
      "Test score: 0.0378152994377\n",
      "Test accuracy: 0.9875\n"
     ]
    }
   ],
   "source": [
    "'''Trains a simple convnet on the MNIST dataset.\n",
    "\n",
    "Gets to 99.25% test accuracy after 12 epochs\n",
    "(there is still a lot of margin for parameter tuning).\n",
    "16 seconds per epoch on a GRID K520 GPU.\n",
    "'''\n",
    "\n",
    "from __future__ import print_function\n",
    "import numpy as np\n",
    "np.random.seed(1337)  # for reproducibility\n",
    "\n",
    "from keras.datasets import mnist\n",
    "from keras.models import Sequential\n",
    "from keras.layers import Dense, Dropout, Activation, Flatten\n",
    "from keras.layers import Convolution2D, MaxPooling2D\n",
    "from keras.utils import np_utils\n",
    "from keras import backend as K\n",
    "\n",
    "batch_size = 128\n",
    "nb_classes = 10\n",
    "nb_epoch = 12\n",
    "\n",
    "# input image dimensions\n",
    "img_rows, img_cols = 28, 28\n",
    "# number of convolutional filters to use\n",
    "nb_filters = 32\n",
    "# size of pooling area for max pooling\n",
    "pool_size = (2, 2)\n",
    "# convolution kernel size\n",
    "kernel_size = (3, 3)\n",
    "\n",
    "# the data, shuffled and split between train and test sets\n",
    "(X_train, y_train), (X_test, y_test) = mnist.load_data()\n",
    "\n",
    "if K.image_dim_ordering() == 'th':\n",
    "    X_train = X_train.reshape(X_train.shape[0], 1, img_rows, img_cols)\n",
    "    X_test = X_test.reshape(X_test.shape[0], 1, img_rows, img_cols)\n",
    "    input_shape = (1, img_rows, img_cols)\n",
    "else:\n",
    "    X_train = X_train.reshape(X_train.shape[0], img_rows, img_cols, 1)\n",
    "    X_test = X_test.reshape(X_test.shape[0], img_rows, img_cols, 1)\n",
    "    input_shape = (img_rows, img_cols, 1)\n",
    "\n",
    "X_train = X_train.astype('float32')\n",
    "X_test = X_test.astype('float32')\n",
    "X_train /= 255\n",
    "X_test /= 255\n",
    "print('X_train shape:', X_train.shape)\n",
    "print(X_train.shape[0], 'train samples')\n",
    "print(X_test.shape[0], 'test samples')\n",
    "\n",
    "# convert class vectors to binary class matrices\n",
    "Y_train = np_utils.to_categorical(y_train, nb_classes)\n",
    "Y_test = np_utils.to_categorical(y_test, nb_classes)\n",
    "\n",
    "model = Sequential()\n",
    "\n",
    "model.add(Convolution2D(nb_filters, kernel_size[0], kernel_size[1],\n",
    "                        border_mode='valid',\n",
    "                        input_shape=input_shape))\n",
    "model.add(Activation('relu'))\n",
    "model.add(Convolution2D(nb_filters, kernel_size[0], kernel_size[1]))\n",
    "model.add(Activation('relu'))\n",
    "model.add(MaxPooling2D(pool_size=pool_size))\n",
    "model.add(Dropout(0.25))\n",
    "\n",
    "model.add(Flatten())\n",
    "model.add(Dense(128))\n",
    "model.add(Activation('relu'))\n",
    "model.add(Dropout(0.5))\n",
    "model.add(Dense(nb_classes))\n",
    "model.add(Activation('softmax'))\n",
    "\n",
    "model.compile(loss='categorical_crossentropy',\n",
    "              optimizer='adadelta',\n",
    "              metrics=['accuracy'])\n",
    "\n",
    "model.fit(X_train, Y_train, batch_size=batch_size, nb_epoch=nb_epoch,\n",
    "          verbose=1, validation_data=(X_test, Y_test))\n",
    "score = model.evaluate(X_test, Y_test, verbose=0)\n",
    "print('Test score:', score[0])\n",
    "print('Test accuracy:', score[1])"
   ]
  },
  {
   "cell_type": "code",
   "execution_count": 69,
   "metadata": {
    "collapsed": false
   },
   "outputs": [
    {
     "name": "stdout",
     "output_type": "stream",
     "text": [
      "(28000, 784)\n",
      "(28000, 1, 28, 28)\n",
      "28000/28000 [==============================] - 21s    \n"
     ]
    }
   ],
   "source": [
    "test = np.genfromtxt('test.csv', delimiter=',', skip_header=1)\n",
    "print(test.shape)\n",
    "\n",
    "test = test.reshape(test.shape[0], 1, img_rows, img_cols)\n",
    "test /= 255\n",
    "print(test.shape)\n",
    "\n",
    "predictions = model.predict_classes(test)\n",
    "\n",
    "labels = np.array(range(1, predictions.shape[0]+1))\n",
    "results = np.column_stack([labels, predictions])\n",
    "\n",
    "np.savetxt('result.csv', results, delimiter=',', header='ImageId,Label', fmt='%d', comments='')"
   ]
  }
 ],
 "metadata": {
  "kernelspec": {
   "display_name": "Python [conda root]",
   "language": "python",
   "name": "conda-root-py"
  },
  "language_info": {
   "codemirror_mode": {
    "name": "ipython",
    "version": 2
   },
   "file_extension": ".py",
   "mimetype": "text/x-python",
   "name": "python",
   "nbconvert_exporter": "python",
   "pygments_lexer": "ipython2",
   "version": "2.7.12"
  }
 },
 "nbformat": 4,
 "nbformat_minor": 1
}
